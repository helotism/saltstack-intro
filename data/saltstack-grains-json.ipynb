{
 "cells": [
  {
   "cell_type": "code",
   "execution_count": 1,
   "metadata": {
    "collapsed": true
   },
   "outputs": [],
   "source": [
    "!sudo salt-key -L --out=json > /mnt/data/salt-keys.json\n",
    "!sudo salt --static --out json '*' grains.item id os_family os osrelease oscodename osfinger ip4_interfaces kernel > /mnt/data/salt-grains.json\n"
   ]
  },
  {
   "cell_type": "code",
   "execution_count": 2,
   "metadata": {
    "collapsed": false,
    "slideshow": {
     "slide_type": "slide"
    }
   },
   "outputs": [],
   "source": [
    "import pandas as pd\n",
    "import json\n",
    "\n",
    "tmp = pd.read_json(\"/mnt/data/salt-grains.json\", orient='index')\n",
    "\n",
    "#https://docs.saltstack.com/en/latest/ref/cli/salt.html\n",
    "#salt --static --out json '*' grains.item id os_family os osrelease oscodename osfinger ip4_interfaces kernel > /mnt/data/salt-grains.json \n",
    "df_grains = pd.read_json(tmp['ret'].to_json(), orient='index')\n",
    "\n",
    "#usable_dataframe = pd.io.json.json_normalize(jsondata)\n",
    "#rather roll own?"
   ]
  },
  {
   "cell_type": "code",
   "execution_count": 3,
   "metadata": {
    "collapsed": false,
    "slideshow": {
     "slide_type": "slide"
    }
   },
   "outputs": [
    {
     "data": {
      "text/html": [
       "<div>\n",
       "<table border=\"1\" class=\"dataframe\">\n",
       "  <thead>\n",
       "    <tr style=\"text-align: right;\">\n",
       "      <th></th>\n",
       "      <th>id</th>\n",
       "      <th>ip4_interfaces</th>\n",
       "      <th>kernel</th>\n",
       "      <th>os</th>\n",
       "      <th>os_family</th>\n",
       "      <th>oscodename</th>\n",
       "      <th>osfinger</th>\n",
       "      <th>osrelease</th>\n",
       "    </tr>\n",
       "  </thead>\n",
       "  <tbody>\n",
       "    <tr>\n",
       "      <th>minion-on-saltmaster</th>\n",
       "      <td>minion-on-saltmaster</td>\n",
       "      <td>{'lo': ['127.0.0.1'], 'eth0': ['172.17.0.2'], ...</td>\n",
       "      <td>Linux</td>\n",
       "      <td>Ubuntu</td>\n",
       "      <td>Debian</td>\n",
       "      <td>xenial</td>\n",
       "      <td>Ubuntu-16.04</td>\n",
       "      <td>16.04</td>\n",
       "    </tr>\n",
       "    <tr>\n",
       "      <th>saltminion01</th>\n",
       "      <td>saltminion01</td>\n",
       "      <td>{'lo': ['127.0.0.1'], 'eth0': ['172.76.4.3']}</td>\n",
       "      <td>Linux</td>\n",
       "      <td>Ubuntu</td>\n",
       "      <td>Debian</td>\n",
       "      <td>xenial</td>\n",
       "      <td>Ubuntu-16.04</td>\n",
       "      <td>16.04</td>\n",
       "    </tr>\n",
       "    <tr>\n",
       "      <th>saltminion02</th>\n",
       "      <td>saltminion02</td>\n",
       "      <td>{'lo': ['127.0.0.1'], 'eth0': ['172.76.4.4']}</td>\n",
       "      <td>Linux</td>\n",
       "      <td>Debian</td>\n",
       "      <td>Debian</td>\n",
       "      <td>jessie</td>\n",
       "      <td>Debian-8</td>\n",
       "      <td>8.60</td>\n",
       "    </tr>\n",
       "  </tbody>\n",
       "</table>\n",
       "</div>"
      ],
      "text/plain": [
       "                                        id  \\\n",
       "minion-on-saltmaster  minion-on-saltmaster   \n",
       "saltminion01                  saltminion01   \n",
       "saltminion02                  saltminion02   \n",
       "\n",
       "                                                         ip4_interfaces  \\\n",
       "minion-on-saltmaster  {'lo': ['127.0.0.1'], 'eth0': ['172.17.0.2'], ...   \n",
       "saltminion01              {'lo': ['127.0.0.1'], 'eth0': ['172.76.4.3']}   \n",
       "saltminion02              {'lo': ['127.0.0.1'], 'eth0': ['172.76.4.4']}   \n",
       "\n",
       "                     kernel      os os_family oscodename      osfinger  \\\n",
       "minion-on-saltmaster  Linux  Ubuntu    Debian     xenial  Ubuntu-16.04   \n",
       "saltminion01          Linux  Ubuntu    Debian     xenial  Ubuntu-16.04   \n",
       "saltminion02          Linux  Debian    Debian     jessie      Debian-8   \n",
       "\n",
       "                      osrelease  \n",
       "minion-on-saltmaster      16.04  \n",
       "saltminion01              16.04  \n",
       "saltminion02               8.60  "
      ]
     },
     "execution_count": 3,
     "metadata": {},
     "output_type": "execute_result"
    }
   ],
   "source": [
    "df_grains"
   ]
  },
  {
   "cell_type": "code",
   "execution_count": 4,
   "metadata": {
    "collapsed": false
   },
   "outputs": [
    {
     "name": "stdout",
     "output_type": "stream",
     "text": [
      "{'minion-on-saltmaster': {'jid': '20170104072355828404',\n",
      "                          'out': 'nested',\n",
      "                          'ret': {'id': 'minion-on-saltmaster',\n",
      "                                  'ip4_interfaces': {'eth0': ['172.17.0.2'],\n",
      "                                                     'eth1': ['172.76.4.2'],\n",
      "                                                     'lo': ['127.0.0.1']},\n",
      "                                  'kernel': 'Linux',\n",
      "                                  'os': 'Ubuntu',\n",
      "                                  'os_family': 'Debian',\n",
      "                                  'oscodename': 'xenial',\n",
      "                                  'osfinger': 'Ubuntu-16.04',\n",
      "                                  'osrelease': '16.04'},\n",
      "                          'retcode': 0},\n",
      " 'saltminion01': {'jid': '20170104072355828404',\n",
      "                  'out': 'nested',\n",
      "                  'ret': {'id': 'saltminion01',\n",
      "                          'ip4_interfaces': {'eth0': ['172.76.4.3'],\n",
      "                                             'lo': ['127.0.0.1']},\n",
      "                          'kernel': 'Linux',\n",
      "                          'os': 'Ubuntu',\n",
      "                          'os_family': 'Debian',\n",
      "                          'oscodename': 'xenial',\n",
      "                          'osfinger': 'Ubuntu-16.04',\n",
      "                          'osrelease': '16.04'},\n",
      "                  'retcode': 0},\n",
      " 'saltminion02': {'jid': '20170104072355828404',\n",
      "                  'out': 'nested',\n",
      "                  'ret': {'id': 'saltminion02',\n",
      "                          'ip4_interfaces': {'eth0': ['172.76.4.4'],\n",
      "                                             'lo': ['127.0.0.1']},\n",
      "                          'kernel': 'Linux',\n",
      "                          'os': 'Debian',\n",
      "                          'os_family': 'Debian',\n",
      "                          'oscodename': 'jessie',\n",
      "                          'osfinger': 'Debian-8',\n",
      "                          'osrelease': '8.6'},\n",
      "                  'retcode': 0}}\n"
     ]
    }
   ],
   "source": [
    "import json\n",
    "from pprint import pprint\n",
    "\n",
    "with open('/mnt/data/salt-grains.json') as json_data:\n",
    "    d = json.load(json_data)\n",
    "    json_data.close()\n",
    "    pprint(d)"
   ]
  },
  {
   "cell_type": "code",
   "execution_count": 5,
   "metadata": {
    "collapsed": false
   },
   "outputs": [
    {
     "data": {
      "text/plain": [
       "{'minion-on-saltmaster': {'id': 'minion-on-saltmaster',\n",
       "  'ip4_interfaces': '172.17.0.2, 172.76.4.2',\n",
       "  'kernel': 'Linux',\n",
       "  'os': 'Ubuntu',\n",
       "  'os_family': 'Debian',\n",
       "  'oscodename': 'xenial',\n",
       "  'osfinger': 'Ubuntu-16.04',\n",
       "  'osrelease': '16.04'},\n",
       " 'saltminion01': {'id': 'saltminion01',\n",
       "  'ip4_interfaces': '172.76.4.3',\n",
       "  'kernel': 'Linux',\n",
       "  'os': 'Ubuntu',\n",
       "  'os_family': 'Debian',\n",
       "  'oscodename': 'xenial',\n",
       "  'osfinger': 'Ubuntu-16.04',\n",
       "  'osrelease': '16.04'},\n",
       " 'saltminion02': {'id': 'saltminion02',\n",
       "  'ip4_interfaces': '172.76.4.4',\n",
       "  'kernel': 'Linux',\n",
       "  'os': 'Debian',\n",
       "  'os_family': 'Debian',\n",
       "  'oscodename': 'jessie',\n",
       "  'osfinger': 'Debian-8',\n",
       "  'osrelease': '8.6'}}"
      ]
     },
     "execution_count": 5,
     "metadata": {},
     "output_type": "execute_result"
    }
   ],
   "source": [
    "import json\n",
    "\n",
    "with open('/mnt/data/salt-grains.json') as json_data:\n",
    "    grains_incoming = json.load(json_data)\n",
    "    json_data.close()\n",
    "\n",
    "grains_staged = {}\n",
    "for key, value in grains_incoming.items():\n",
    "    retval = {}\n",
    "    retval['id'] = value['ret']['id']\n",
    "    retval['kernel'] = value['ret']['kernel']\n",
    "    retval['os'] = value['ret']['os']\n",
    "    retval['os_family'] = value['ret']['os_family']\n",
    "    retval['oscodename'] = value['ret']['oscodename']\n",
    "    retval['osrelease'] = value['ret']['osrelease']\n",
    "    retval['osfinger'] = value['ret']['osfinger']\n",
    "    tmp = []\n",
    "    for key2, value2 in value['ret']['ip4_interfaces'].items():\n",
    "        if key2 not in ['lo']:\n",
    "            tmp.append(value2[0])\n",
    "    retval['ip4_interfaces'] = \", \".join(tmp)\n",
    "    grains_staged[key] = retval\n",
    "grains_staged"
   ]
  },
  {
   "cell_type": "code",
   "execution_count": 6,
   "metadata": {
    "collapsed": false,
    "scrolled": true
   },
   "outputs": [
    {
     "name": "stdout",
     "output_type": "stream",
     "text": [
      "[]\n",
      "['T500-2017', 'W7-minion']\n",
      "[]\n",
      "['minion-on-saltmaster', 'saltminion01', 'saltminion02']\n"
     ]
    },
    {
     "data": {
      "text/plain": [
       "{'T500-2017': 'minions_pre',\n",
       " 'W7-minion': 'minions_pre',\n",
       " 'minion-on-saltmaster': 'minions',\n",
       " 'saltminion01': 'minions',\n",
       " 'saltminion02': 'minions'}"
      ]
     },
     "execution_count": 6,
     "metadata": {},
     "output_type": "execute_result"
    }
   ],
   "source": [
    "import json\n",
    "\n",
    "with open('/mnt/data/salt-keys.json') as json_data:\n",
    "    keys_incoming = json.load(json_data)\n",
    "    json_data.close()\n",
    "\n",
    "keys_staged={}\n",
    "for k, col in keys_incoming.items():\n",
    "    print(col)\n",
    "    for m in map(str, col):\n",
    "        keys_staged[m] = k\n",
    "keys_staged"
   ]
  },
  {
   "cell_type": "code",
   "execution_count": 7,
   "metadata": {
    "collapsed": false
   },
   "outputs": [
    {
     "name": "stdout",
     "output_type": "stream",
     "text": [
      "{'T500-2017': {'keystatus': 'minions_pre'},\n",
      " 'W7-minion': {'keystatus': 'minions_pre'},\n",
      " 'minion-on-saltmaster': {'grains': {'id': 'minion-on-saltmaster',\n",
      "                                     'ip4_interfaces': '172.17.0.2, 172.76.4.2',\n",
      "                                     'kernel': 'Linux',\n",
      "                                     'os': 'Ubuntu',\n",
      "                                     'os_family': 'Debian',\n",
      "                                     'oscodename': 'xenial',\n",
      "                                     'osfinger': 'Ubuntu-16.04',\n",
      "                                     'osrelease': '16.04'},\n",
      "                          'keystatus': 'minions'},\n",
      " 'saltminion01': {'grains': {'id': 'saltminion01',\n",
      "                             'ip4_interfaces': '172.76.4.3',\n",
      "                             'kernel': 'Linux',\n",
      "                             'os': 'Ubuntu',\n",
      "                             'os_family': 'Debian',\n",
      "                             'oscodename': 'xenial',\n",
      "                             'osfinger': 'Ubuntu-16.04',\n",
      "                             'osrelease': '16.04'},\n",
      "                  'keystatus': 'minions'},\n",
      " 'saltminion02': {'grains': {'id': 'saltminion02',\n",
      "                             'ip4_interfaces': '172.76.4.4',\n",
      "                             'kernel': 'Linux',\n",
      "                             'os': 'Debian',\n",
      "                             'os_family': 'Debian',\n",
      "                             'oscodename': 'jessie',\n",
      "                             'osfinger': 'Debian-8',\n",
      "                             'osrelease': '8.6'},\n",
      "                  'keystatus': 'minions'}}\n"
     ]
    }
   ],
   "source": [
    "from pprint import pprint\n",
    "\n",
    "minions = {}\n",
    "for k, v in keys_staged.items():\n",
    "    tmp = {}\n",
    "    tmp['keystatus'] = v\n",
    "    if k in grains_staged:\n",
    "        tmp['grains'] = grains_staged[k]\n",
    "    minions[k] = tmp\n",
    "pprint(minions)"
   ]
  },
  {
   "cell_type": "code",
   "execution_count": 8,
   "metadata": {
    "collapsed": false
   },
   "outputs": [
    {
     "data": {
      "text/html": [
       "<div>\n",
       "<table border=\"1\" class=\"dataframe\">\n",
       "  <thead>\n",
       "    <tr style=\"text-align: right;\">\n",
       "      <th></th>\n",
       "      <th>grains</th>\n",
       "      <th>keystatus</th>\n",
       "    </tr>\n",
       "  </thead>\n",
       "  <tbody>\n",
       "    <tr>\n",
       "      <th>T500-2017</th>\n",
       "      <td>NaN</td>\n",
       "      <td>minions_pre</td>\n",
       "    </tr>\n",
       "    <tr>\n",
       "      <th>W7-minion</th>\n",
       "      <td>NaN</td>\n",
       "      <td>minions_pre</td>\n",
       "    </tr>\n",
       "    <tr>\n",
       "      <th>minion-on-saltmaster</th>\n",
       "      <td>{'osfinger': 'Ubuntu-16.04', 'oscodename': 'xe...</td>\n",
       "      <td>minions</td>\n",
       "    </tr>\n",
       "    <tr>\n",
       "      <th>saltminion01</th>\n",
       "      <td>{'osfinger': 'Ubuntu-16.04', 'oscodename': 'xe...</td>\n",
       "      <td>minions</td>\n",
       "    </tr>\n",
       "    <tr>\n",
       "      <th>saltminion02</th>\n",
       "      <td>{'osfinger': 'Debian-8', 'oscodename': 'jessie...</td>\n",
       "      <td>minions</td>\n",
       "    </tr>\n",
       "  </tbody>\n",
       "</table>\n",
       "</div>"
      ],
      "text/plain": [
       "                                                                 grains  \\\n",
       "T500-2017                                                           NaN   \n",
       "W7-minion                                                           NaN   \n",
       "minion-on-saltmaster  {'osfinger': 'Ubuntu-16.04', 'oscodename': 'xe...   \n",
       "saltminion01          {'osfinger': 'Ubuntu-16.04', 'oscodename': 'xe...   \n",
       "saltminion02          {'osfinger': 'Debian-8', 'oscodename': 'jessie...   \n",
       "\n",
       "                        keystatus  \n",
       "T500-2017             minions_pre  \n",
       "W7-minion             minions_pre  \n",
       "minion-on-saltmaster      minions  \n",
       "saltminion01              minions  \n",
       "saltminion02              minions  "
      ]
     },
     "execution_count": 8,
     "metadata": {},
     "output_type": "execute_result"
    }
   ],
   "source": [
    "df_minions = pd.DataFrame.from_dict(minions, orient='index')\n",
    "df_minions"
   ]
  },
  {
   "cell_type": "code",
   "execution_count": null,
   "metadata": {
    "collapsed": true
   },
   "outputs": [],
   "source": []
  }
 ],
 "metadata": {
  "kernelspec": {
   "display_name": "Python 3",
   "language": "python",
   "name": "python3"
  },
  "language_info": {
   "codemirror_mode": {
    "name": "ipython",
    "version": 3
   },
   "file_extension": ".py",
   "mimetype": "text/x-python",
   "name": "python",
   "nbconvert_exporter": "python",
   "pygments_lexer": "ipython3",
   "version": "3.5.2"
  }
 },
 "nbformat": 4,
 "nbformat_minor": 2
}
