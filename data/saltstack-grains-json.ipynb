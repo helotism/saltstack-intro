{
 "cells": [
  {
   "cell_type": "code",
   "execution_count": 1,
   "metadata": {
    "collapsed": false,
    "slideshow": {
     "slide_type": "slide"
    }
   },
   "outputs": [],
   "source": [
    "import pandas as pd\n",
    "\n",
    "tmp = pd.read_json(\"/mnt/data/salt-grains.json\", orient='index')\n",
    "\n",
    "#https://docs.saltstack.com/en/latest/ref/cli/salt.html\n",
    "#salt --static --out json '*' grains.item id os_family os osrelease oscodename osfinger ip4_interfaces kernel > /mnt/data/salt-grains.json \n",
    "grains = pd.read_json(tmp['ret'].to_json(), orient='index')\n",
    "\n",
    "#usable_dataframe = pd.io.json.json_normalize(jsondata)\n",
    "#rather roll own?"
   ]
  },
  {
   "cell_type": "code",
   "execution_count": 2,
   "metadata": {
    "collapsed": false,
    "slideshow": {
     "slide_type": "slide"
    }
   },
   "outputs": [
    {
     "data": {
      "text/html": [
       "<div>\n",
       "<table border=\"1\" class=\"dataframe\">\n",
       "  <thead>\n",
       "    <tr style=\"text-align: right;\">\n",
       "      <th></th>\n",
       "      <th>id</th>\n",
       "      <th>ip4_interfaces</th>\n",
       "      <th>kernel</th>\n",
       "      <th>os</th>\n",
       "      <th>os_family</th>\n",
       "      <th>oscodename</th>\n",
       "      <th>osfinger</th>\n",
       "      <th>osrelease</th>\n",
       "    </tr>\n",
       "  </thead>\n",
       "  <tbody>\n",
       "    <tr>\n",
       "      <th>minion-on-saltmaster</th>\n",
       "      <td>minion-on-saltmaster</td>\n",
       "      <td>{'eth0': ['172.76.4.2'], 'lo': ['127.0.0.1']}</td>\n",
       "      <td>Linux</td>\n",
       "      <td>Ubuntu</td>\n",
       "      <td>Debian</td>\n",
       "      <td>xenial</td>\n",
       "      <td>Ubuntu-16.04</td>\n",
       "      <td>16.04</td>\n",
       "    </tr>\n",
       "    <tr>\n",
       "      <th>saltminion01</th>\n",
       "      <td>saltminion01</td>\n",
       "      <td>{'eth0': ['172.76.4.3'], 'lo': ['127.0.0.1']}</td>\n",
       "      <td>Linux</td>\n",
       "      <td>Ubuntu</td>\n",
       "      <td>Debian</td>\n",
       "      <td>xenial</td>\n",
       "      <td>Ubuntu-16.04</td>\n",
       "      <td>16.04</td>\n",
       "    </tr>\n",
       "    <tr>\n",
       "      <th>saltminion02</th>\n",
       "      <td>saltminion02</td>\n",
       "      <td>{'eth0': ['172.76.4.4'], 'lo': ['127.0.0.1']}</td>\n",
       "      <td>Linux</td>\n",
       "      <td>Debian</td>\n",
       "      <td>Debian</td>\n",
       "      <td>jessie</td>\n",
       "      <td>Debian-8</td>\n",
       "      <td>8.60</td>\n",
       "    </tr>\n",
       "  </tbody>\n",
       "</table>\n",
       "</div>"
      ],
      "text/plain": [
       "                                        id  \\\n",
       "minion-on-saltmaster  minion-on-saltmaster   \n",
       "saltminion01                  saltminion01   \n",
       "saltminion02                  saltminion02   \n",
       "\n",
       "                                                     ip4_interfaces kernel  \\\n",
       "minion-on-saltmaster  {'eth0': ['172.76.4.2'], 'lo': ['127.0.0.1']}  Linux   \n",
       "saltminion01          {'eth0': ['172.76.4.3'], 'lo': ['127.0.0.1']}  Linux   \n",
       "saltminion02          {'eth0': ['172.76.4.4'], 'lo': ['127.0.0.1']}  Linux   \n",
       "\n",
       "                          os os_family oscodename      osfinger  osrelease  \n",
       "minion-on-saltmaster  Ubuntu    Debian     xenial  Ubuntu-16.04      16.04  \n",
       "saltminion01          Ubuntu    Debian     xenial  Ubuntu-16.04      16.04  \n",
       "saltminion02          Debian    Debian     jessie      Debian-8       8.60  "
      ]
     },
     "execution_count": 2,
     "metadata": {},
     "output_type": "execute_result"
    }
   ],
   "source": [
    "grains"
   ]
  },
  {
   "cell_type": "markdown",
   "metadata": {
    "collapsed": true,
    "slideshow": {
     "slide_type": "slide"
    }
   },
   "source": [
    "## Tests"
   ]
  },
  {
   "cell_type": "code",
   "execution_count": 3,
   "metadata": {
    "collapsed": false,
    "slideshow": {
     "slide_type": "fragment"
    }
   },
   "outputs": [
    {
     "name": "stdout",
     "output_type": "stream",
     "text": [
      "[WARNING ] Although 'systemd-detect-virt' was found in path, the current user cannot execute it. Grains output might not be accurate.\n",
      "\u001b[0;36mlocal\u001b[0;0m:\n",
      "    \u001b[0;1;33mTrue\u001b[0;0m\n"
     ]
    }
   ],
   "source": [
    "!sudo salt-call test.ping"
   ]
  },
  {
   "cell_type": "code",
   "execution_count": null,
   "metadata": {
    "collapsed": true
   },
   "outputs": [],
   "source": []
  },
  {
   "cell_type": "code",
   "execution_count": null,
   "metadata": {
    "collapsed": true
   },
   "outputs": [],
   "source": []
  },
  {
   "cell_type": "code",
   "execution_count": null,
   "metadata": {
    "collapsed": true
   },
   "outputs": [],
   "source": []
  },
  {
   "cell_type": "code",
   "execution_count": null,
   "metadata": {
    "collapsed": true
   },
   "outputs": [],
   "source": []
  },
  {
   "cell_type": "code",
   "execution_count": null,
   "metadata": {
    "collapsed": true
   },
   "outputs": [],
   "source": []
  },
  {
   "cell_type": "code",
   "execution_count": null,
   "metadata": {
    "collapsed": true
   },
   "outputs": [],
   "source": []
  }
 ],
 "metadata": {
  "kernelspec": {
   "display_name": "Python 3",
   "language": "python",
   "name": "python3"
  },
  "language_info": {
   "codemirror_mode": {
    "name": "ipython",
    "version": 3
   },
   "file_extension": ".py",
   "mimetype": "text/x-python",
   "name": "python",
   "nbconvert_exporter": "python",
   "pygments_lexer": "ipython3",
   "version": "3.5.2"
  }
 },
 "nbformat": 4,
 "nbformat_minor": 2
}
