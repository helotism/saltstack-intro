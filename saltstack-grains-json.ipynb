{
 "cells": [
  {
   "cell_type": "code",
   "execution_count": 38,
   "metadata": {
    "collapsed": false
   },
   "outputs": [],
   "source": [
    "import pandas as pd\n",
    "\n",
    "tmp = pd.read_json(\"data/test.json\", orient='index')\n",
    "\n",
    "#https://docs.saltstack.com/en/latest/ref/cli/salt.html\n",
    "#salt --static --out json '*' grains.item os osrelease oscodename fqdn ip4_interfaces ipv4 kernel\n",
    "grains = pd.read_json(tmp['ret'].to_json(), orient='index')\n",
    "\n",
    "#usable_dataframe = pd.io.json.json_normalize(jsondata)\n",
    "#rather roll own?"
   ]
  },
  {
   "cell_type": "code",
   "execution_count": 39,
   "metadata": {
    "collapsed": false
   },
   "outputs": [
    {
     "data": {
      "text/html": [
       "<div>\n",
       "<table border=\"1\" class=\"dataframe\">\n",
       "  <thead>\n",
       "    <tr style=\"text-align: right;\">\n",
       "      <th></th>\n",
       "      <th>fqdn</th>\n",
       "      <th>ip4_interfaces</th>\n",
       "      <th>ipv4</th>\n",
       "      <th>kernel</th>\n",
       "      <th>os</th>\n",
       "      <th>oscodename</th>\n",
       "      <th>osrelease</th>\n",
       "    </tr>\n",
       "  </thead>\n",
       "  <tbody>\n",
       "    <tr>\n",
       "      <th>saltmaster</th>\n",
       "      <td>saltmaster</td>\n",
       "      <td>{'eth1': ['172.76.4.2'], 'lo': ['127.0.0.1'], ...</td>\n",
       "      <td>[127.0.0.1, 172.17.0.2, 172.76.4.2]</td>\n",
       "      <td>Linux</td>\n",
       "      <td>Ubuntu</td>\n",
       "      <td>xenial</td>\n",
       "      <td>16.04</td>\n",
       "    </tr>\n",
       "    <tr>\n",
       "      <th>saltminion01</th>\n",
       "      <td>saltminion01</td>\n",
       "      <td>{'eth0': ['172.76.4.3'], 'lo': ['127.0.0.1']}</td>\n",
       "      <td>[127.0.0.1, 172.76.4.3]</td>\n",
       "      <td>Linux</td>\n",
       "      <td>Ubuntu</td>\n",
       "      <td>xenial</td>\n",
       "      <td>16.04</td>\n",
       "    </tr>\n",
       "  </tbody>\n",
       "</table>\n",
       "</div>"
      ],
      "text/plain": [
       "                      fqdn                                     ip4_interfaces  \\\n",
       "saltmaster      saltmaster  {'eth1': ['172.76.4.2'], 'lo': ['127.0.0.1'], ...   \n",
       "saltminion01  saltminion01      {'eth0': ['172.76.4.3'], 'lo': ['127.0.0.1']}   \n",
       "\n",
       "                                             ipv4 kernel      os oscodename  \\\n",
       "saltmaster    [127.0.0.1, 172.17.0.2, 172.76.4.2]  Linux  Ubuntu     xenial   \n",
       "saltminion01              [127.0.0.1, 172.76.4.3]  Linux  Ubuntu     xenial   \n",
       "\n",
       "              osrelease  \n",
       "saltmaster        16.04  \n",
       "saltminion01      16.04  "
      ]
     },
     "execution_count": 39,
     "metadata": {},
     "output_type": "execute_result"
    }
   ],
   "source": [
    "grains"
   ]
  },
  {
   "cell_type": "code",
   "execution_count": null,
   "metadata": {
    "collapsed": true
   },
   "outputs": [],
   "source": []
  },
  {
   "cell_type": "code",
   "execution_count": null,
   "metadata": {
    "collapsed": true
   },
   "outputs": [],
   "source": []
  },
  {
   "cell_type": "code",
   "execution_count": null,
   "metadata": {
    "collapsed": true
   },
   "outputs": [],
   "source": []
  },
  {
   "cell_type": "code",
   "execution_count": null,
   "metadata": {
    "collapsed": true
   },
   "outputs": [],
   "source": []
  },
  {
   "cell_type": "code",
   "execution_count": null,
   "metadata": {
    "collapsed": true
   },
   "outputs": [],
   "source": []
  },
  {
   "cell_type": "code",
   "execution_count": null,
   "metadata": {
    "collapsed": true
   },
   "outputs": [],
   "source": []
  },
  {
   "cell_type": "code",
   "execution_count": null,
   "metadata": {
    "collapsed": true
   },
   "outputs": [],
   "source": []
  },
  {
   "cell_type": "code",
   "execution_count": null,
   "metadata": {
    "collapsed": true
   },
   "outputs": [],
   "source": []
  }
 ],
 "metadata": {
  "kernelspec": {
   "display_name": "Python 3",
   "language": "python",
   "name": "python3"
  },
  "language_info": {
   "codemirror_mode": {
    "name": "ipython",
    "version": 3
   },
   "file_extension": ".py",
   "mimetype": "text/x-python",
   "name": "python",
   "nbconvert_exporter": "python",
   "pygments_lexer": "ipython3",
   "version": "3.5.2"
  }
 },
 "nbformat": 4,
 "nbformat_minor": 2
}
